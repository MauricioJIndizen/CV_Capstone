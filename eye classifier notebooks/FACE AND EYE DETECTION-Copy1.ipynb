{
 "cells": [
  {
   "cell_type": "markdown",
   "metadata": {},
   "source": [
    "# FACE AND EYE RECOGNITION USING VIOLA&JONES (HAAR CASCADE CLASSIFIER)"
   ]
  },
  {
   "cell_type": "markdown",
   "metadata": {},
   "source": [
    "This notebook includes a code for face and eye recognition from our webcam images using Haar Cascade classifier. Once eyes are extracted from the original image, that images is cropped and used to predict, using our model trainned with our dataset, if the eyes are opened or closed.\n",
    "\n",
    "Haar Cascade have some issues detecting closed eyes as eyes, also it can detect noise holes, chin or mouth as eyes and our model also have some problems classifing this closed eyes as closed, but its an initial code."
   ]
  },
  {
   "cell_type": "markdown",
   "metadata": {},
   "source": [
    "Object Detection using Haar feature-based cascade classifiers is an effective object detection method proposed by Paul Viola and Michael Jones in their paper, \"Rapid Object Detection using a Boosted Cascade of Simple Features\" in 2001. It is a machine learning based approach where a cascade function is trained from a lot of positive and negative images. It is then used to detect objects in other images.\n",
    "\n",
    "Initially, the algorithm needs a lot of positive images (images of faces) and negative images (images without faces) to train the classifier. Then we need to extract features from it. For this, Haar features shown in the below image are used. They are just like our convolutional kernel. Each feature is a single value obtained by subtracting sum of pixels under the white rectangle from sum of pixels under the black rectangle.\n",
    "\n",
    "<img src=\"notebook_images/haar.jpeg\">\n",
    "\n",
    "OpenCV library includes some models already trained for many object detections, for our case there are models for face and eye detection, that can be easily used with Python.\n",
    "\n",
    "This is a old model that gives quite good results and can be used at real-time applications, but Haar cascades are notoriously prone to false-positives — the Viola-Jones algorithm can easily report a face in an image when no face is present.\n",
    "\n",
    "More modern and accurate models must be taken into account, as this method has now been far surpassed by other methods, such as using Histogram of Oriented Gradients (HOG) + Linear SVM and deep learning (CNN, YOLO). "
   ]
  },
  {
   "cell_type": "code",
   "execution_count": null,
   "metadata": {},
   "outputs": [],
   "source": [
    "import numpy as np\n",
    "import cv2\n",
    "from keras.models import load_model\n",
    "from skimage.transform import resize\n",
    "import os\n",
    "import matplotlib.pyplot as plt\n",
    "import pandas as pd\n",
    "from tensorflow.keras.preprocessing.image import load_img\n",
    "from tensorflow.keras.preprocessing.image import img_to_array\n",
    "from sklearn.preprocessing import LabelEncoder\n",
    "from sklearn.metrics import confusion_matrix, classification_report\n",
    "import time"
   ]
  },
  {
   "cell_type": "code",
   "execution_count": null,
   "metadata": {},
   "outputs": [],
   "source": [
    "def load_haarcascade():\n",
    "    face_cascade_name = cv2.data.haarcascades + 'haarcascade_frontalface_default.xml'\n",
    "    eye_cascade_name = cv2.data.haarcascades + 'haarcascade_eye.xml'\n",
    "    \n",
    "    face_cascade = cv2.CascadeClassifier()\n",
    "    if not face_cascade.load(cv2.samples.findFile(face_cascade_name)):\n",
    "        print(\"Error loading xml file\")\n",
    "        exit(0)\n",
    "\n",
    "    eye_cascade = cv2.CascadeClassifier()\n",
    "    if not eye_cascade.load(cv2.samples.findFile(eye_cascade_name)):\n",
    "        print(\"Error loading xml file\")\n",
    "        exit(0)\n",
    "        \n",
    "    return face_cascade, eye_cascade"
   ]
  },
  {
   "cell_type": "code",
   "execution_count": null,
   "metadata": {},
   "outputs": [],
   "source": [
    "#LOAD HAAR CASCADE MODELS TO DETECT FACE AND EYES\n",
    "face_cascade, eye_cascade = load_haarcascade()\n",
    "\n",
    "#LAUNCH VIDEOCAMARA\n",
    "cap = cv2.VideoCapture(0)\n",
    "\n",
    "#LOAD TRAINNED MODEL FOR EYE CLASSIFIER\n",
    "model = load_model('model/eye_classifier1.h5')\n",
    "\n",
    "fontScale = 1\n",
    "font = cv2.FONT_HERSHEY_PLAIN\n",
    "thickness = 2\n",
    "frames = 120\n",
    "while 1:\n",
    "    if frames == 120:\n",
    "        start = time.time()\n",
    "    elif frames == 0:\n",
    "        frames = 121\n",
    "        end = time.time()\n",
    "        seconds = end - start\n",
    "        print (\"Time taken : {0} seconds\".format(seconds))\n",
    "        # Calculate frames per second\n",
    "        fps  = 120 / seconds\n",
    "        print(\"Estimated frames per second : {0}\".format(fps))\n",
    "    #READING IMAGE FROM VIDEOCAMERA\n",
    "    ret, img = cap.read()\n",
    "    frames = frames - 1\n",
    "    #PRESS ESC TO STOP PROGRAM\n",
    "    k = cv2.waitKey(30) & 0xff\n",
    "    if k == 27:\n",
    "        break\n",
    "\n",
    "cap.release()\n",
    "cv2.destroyAllWindows()"
   ]
  },
  {
   "cell_type": "code",
   "execution_count": null,
   "metadata": {},
   "outputs": [],
   "source": []
  }
 ],
 "metadata": {
  "kernelspec": {
   "display_name": "Python 3",
   "language": "python",
   "name": "python3"
  },
  "language_info": {
   "codemirror_mode": {
    "name": "ipython",
    "version": 3
   },
   "file_extension": ".py",
   "mimetype": "text/x-python",
   "name": "python",
   "nbconvert_exporter": "python",
   "pygments_lexer": "ipython3",
   "version": "3.8.5"
  }
 },
 "nbformat": 4,
 "nbformat_minor": 5
}
